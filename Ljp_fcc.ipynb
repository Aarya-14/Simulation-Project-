{
 "cells": [
  {
   "cell_type": "code",
   "execution_count": null,
   "id": "1a6d616c-0ae1-43b7-97ba-8c437cc3ec36",
   "metadata": {},
   "outputs": [],
   "source": []
  }
 ],
 "metadata": {
  "kernelspec": {
   "display_name": "",
   "name": ""
  },
  "language_info": {
   "name": ""
  }
 },
 "nbformat": 4,
 "nbformat_minor": 5
}
